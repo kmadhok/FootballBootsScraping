{
 "cells": [
  {
   "cell_type": "code",
   "execution_count": 1,
   "id": "1f43af45",
   "metadata": {},
   "outputs": [],
   "source": [
    "from bs4 import BeautifulSoup\n",
    "import requests\n",
    "from urllib.request import Request, urlopen\n",
    "import re\n",
    "import pandas as pd\n",
    "import matplotlib.pyplot as plt\n"
   ]
  },
  {
   "cell_type": "code",
   "execution_count": 9,
   "id": "01294ee4",
   "metadata": {},
   "outputs": [],
   "source": [
    "def team_names():\n",
    "    url = \"https://www.footballbootsdb.com/world-cup-2022/\"\n",
    "    page = requests.get(url)\n",
    "    soup= BeautifulSoup(page.content, 'html.parser')\n",
    "    lists = soup.find_all(\"div\",class_=\"player-item card\")\n",
    "    links = []\n",
    "    for link in soup.findAll('a'):\n",
    "        links.append(link.get('href'))\n",
    "    team_linky=links[19:51]\n",
    "    return team_linky\n",
    "    "
   ]
  },
  {
   "cell_type": "code",
   "execution_count": 22,
   "id": "cf8c83a7",
   "metadata": {},
   "outputs": [],
   "source": [
    "def team_list():\n",
    "    name_list=[]\n",
    "    brand_list=[]\n",
    "    dfs=pd.DataFrame\n",
    "    df = pd.DataFrame({'player':name_list,'Brand':brand_list})\n",
    "    i = 0\n",
    "    while i <= len(team_linky):\n",
    "        print(team_linky[i])\n",
    "        scrape_boots1(team_linky[i])\n",
    "        df = pd.DataFrame({'player':name_list,'Brand':brand_list})\n",
    "        i += 1\n",
    "    return df\n",
    "    "
   ]
  }
 ],
 "metadata": {
  "kernelspec": {
   "display_name": "Python 3 (ipykernel)",
   "language": "python",
   "name": "python3"
  },
  "language_info": {
   "codemirror_mode": {
    "name": "ipython",
    "version": 3
   },
   "file_extension": ".py",
   "mimetype": "text/x-python",
   "name": "python",
   "nbconvert_exporter": "python",
   "pygments_lexer": "ipython3",
   "version": "3.8.0"
  }
 },
 "nbformat": 4,
 "nbformat_minor": 5
}
