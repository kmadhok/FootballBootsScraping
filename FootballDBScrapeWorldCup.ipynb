{
 "cells": [
  {
   "cell_type": "code",
   "execution_count": 1,
   "id": "a4aa4592",
   "metadata": {},
   "outputs": [],
   "source": [
    "from bs4 import BeautifulSoup\n",
    "import requests\n",
    "from urllib.request import Request, urlopen\n",
    "import re\n",
    "import pandas as pd\n",
    "import matplotlib.pyplot as plt\n"
   ]
  },
  {
   "cell_type": "code",
   "execution_count": 8,
   "id": "88d425ea",
   "metadata": {},
   "outputs": [],
   "source": [
    "def scrape_boots(url):\n",
    "    team_name = []\n",
    "    name_list=[]\n",
    "    brand_list=[]\n",
    "    dfs=pd.DataFrame\n",
    "    url = f\"{url}\"\n",
    "    page = requests.get(url)\n",
    "    soup= BeautifulSoup(page.content, 'html.parser')\n",
    "    lists = soup.find_all(\"div\",class_=\"player-item card\")\n",
    "    for list in lists:\n",
    "        name = list.find('div', class_='player-name').text\n",
    "        boot = list.find('div', class_='subheader').text\n",
    "        info=[name,boot]\n",
    "        name_list.append(name)\n",
    "        brand_list.append(boot)\n",
    "    #     dfs=dfs.append(info,ignore_index=True)\n",
    "    #     print(info)\n",
    "    df = pd.DataFrame({'player':name_list,'Brand':brand_list})\n",
    "    return df"
   ]
  },
  {
   "cell_type": "code",
   "execution_count": 6,
   "id": "f187bb23",
   "metadata": {},
   "outputs": [
    {
     "ename": "NameError",
     "evalue": "name 'name_list' is not defined",
     "output_type": "error",
     "traceback": [
      "\u001b[0;31m---------------------------------------------------------------------------\u001b[0m",
      "\u001b[0;31mNameError\u001b[0m                                 Traceback (most recent call last)",
      "Input \u001b[0;32mIn [6]\u001b[0m, in \u001b[0;36m<cell line: 1>\u001b[0;34m()\u001b[0m\n\u001b[0;32m----> 1\u001b[0m \u001b[43mscrape_boots\u001b[49m\u001b[43m(\u001b[49m\u001b[38;5;124;43m\"\u001b[39;49m\u001b[38;5;124;43mhttps://www.footballbootsdb.com/world-cup-2022/team/Argentina/9d/\u001b[39;49m\u001b[38;5;124;43m\"\u001b[39;49m\u001b[43m)\u001b[49m\n",
      "Input \u001b[0;32mIn [5]\u001b[0m, in \u001b[0;36mscrape_boots\u001b[0;34m(url)\u001b[0m\n\u001b[1;32m     10\u001b[0m boot \u001b[38;5;241m=\u001b[39m \u001b[38;5;28mlist\u001b[39m\u001b[38;5;241m.\u001b[39mfind(\u001b[38;5;124m'\u001b[39m\u001b[38;5;124mdiv\u001b[39m\u001b[38;5;124m'\u001b[39m, class_\u001b[38;5;241m=\u001b[39m\u001b[38;5;124m'\u001b[39m\u001b[38;5;124msubheader\u001b[39m\u001b[38;5;124m'\u001b[39m)\u001b[38;5;241m.\u001b[39mtext\n\u001b[1;32m     11\u001b[0m info\u001b[38;5;241m=\u001b[39m[name,boot]\n\u001b[0;32m---> 12\u001b[0m \u001b[43mname_list\u001b[49m\u001b[38;5;241m.\u001b[39mappend(name)\n\u001b[1;32m     13\u001b[0m brand_list\u001b[38;5;241m.\u001b[39mappend(boot)\n",
      "\u001b[0;31mNameError\u001b[0m: name 'name_list' is not defined"
     ]
    }
   ],
   "source": [
    "scrape_boots(\"https://www.footballbootsdb.com/world-cup-2022/team/Argentina/9d/\")"
   ]
  }
 ],
 "metadata": {
  "kernelspec": {
   "display_name": "Python 3 (ipykernel)",
   "language": "python",
   "name": "python3"
  },
  "language_info": {
   "codemirror_mode": {
    "name": "ipython",
    "version": 3
   },
   "file_extension": ".py",
   "mimetype": "text/x-python",
   "name": "python",
   "nbconvert_exporter": "python",
   "pygments_lexer": "ipython3",
   "version": "3.8.0"
  }
 },
 "nbformat": 4,
 "nbformat_minor": 5
}
